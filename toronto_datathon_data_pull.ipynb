{
 "cells": [
  {
   "cell_type": "code",
   "execution_count": 1,
   "metadata": {
    "collapsed": true
   },
   "outputs": [],
   "source": [
    "import pandas as pd\n",
    "import requests\n",
    "import xml.etree.ElementTree as ET\n",
    "import xmltodict\n",
    "from datetime import datetime, timedelta\n",
    "import census\n",
    "\n",
    "pd.set_option('display.max_rows', 500)\n",
    "pd.set_option('display.max_columns', 50)"
   ]
  },
  {
   "cell_type": "code",
   "execution_count": 5,
   "metadata": {
    "collapsed": false
   },
   "outputs": [],
   "source": [
    "###########################################################\n",
    "#################### RIDERSHIP ############################\n",
    "###########################################################\n",
    "\n",
    "# Source: http://64.111.127.166/origin-destination/\n",
    "\n",
    "ridership_frame = pd.read_csv(\"date-hour-soo-dest-2011.csv\")\n",
    "ridership_frame.columns = ['day','hour','enter_abbr','exit_abbr','trip_count'] \n",
    "ridership_frame['hour'] = ridership_frame['hour'].apply(lambda x: str(x))\n",
    "ridership_frame['datetime'] = ridership_frame['day'] + ' ' + ridership_frame['hour']\n",
    "ridership_frame['datetime'] = ridership_frame['datetime'].apply(lambda x: datetime.strptime(x, \"%Y-%m-%d %H\"))\n",
    "ridership_frame['day'] = ridership_frame['day'].apply(lambda x: datetime.strptime(x, \"%Y-%m-%d\").date())"
   ]
  },
  {
   "cell_type": "code",
   "execution_count": 6,
   "metadata": {
    "collapsed": false
   },
   "outputs": [
    {
     "data": {
      "text/html": [
       "<div>\n",
       "<table border=\"1\" class=\"dataframe\">\n",
       "  <thead>\n",
       "    <tr style=\"text-align: right;\">\n",
       "      <th></th>\n",
       "      <th>day</th>\n",
       "      <th>hour</th>\n",
       "      <th>enter_abbr</th>\n",
       "      <th>exit_abbr</th>\n",
       "      <th>trip_count</th>\n",
       "      <th>datetime</th>\n",
       "    </tr>\n",
       "  </thead>\n",
       "  <tbody>\n",
       "    <tr>\n",
       "      <th>0</th>\n",
       "      <td>2011-01-01</td>\n",
       "      <td>0</td>\n",
       "      <td>12TH</td>\n",
       "      <td>16TH</td>\n",
       "      <td>1</td>\n",
       "      <td>2011-01-01</td>\n",
       "    </tr>\n",
       "    <tr>\n",
       "      <th>1</th>\n",
       "      <td>2011-01-01</td>\n",
       "      <td>0</td>\n",
       "      <td>12TH</td>\n",
       "      <td>24TH</td>\n",
       "      <td>3</td>\n",
       "      <td>2011-01-01</td>\n",
       "    </tr>\n",
       "  </tbody>\n",
       "</table>\n",
       "</div>"
      ],
      "text/plain": [
       "          day hour enter_abbr exit_abbr  trip_count   datetime\n",
       "0  2011-01-01    0       12TH      16TH           1 2011-01-01\n",
       "1  2011-01-01    0       12TH      24TH           3 2011-01-01"
      ]
     },
     "execution_count": 6,
     "metadata": {},
     "output_type": "execute_result"
    }
   ],
   "source": [
    "ridership_frame.head(2)"
   ]
  },
  {
   "cell_type": "code",
   "execution_count": 10,
   "metadata": {
    "collapsed": false
   },
   "outputs": [],
   "source": [
    "###########################################################\n",
    "#################### STATIONS ############################\n",
    "###########################################################\n",
    "\n",
    "# Source: http://api.bart.gov/docs/stn/stns.aspx\n",
    "\n",
    "def get_bart_stations():\n",
    "    \n",
    "    api_key = \"ZG4U-5XSU-9XLT-DWE9\"\n",
    "    base_url = \"http://api.bart.gov/api/stn.aspx\"\n",
    "    params = {\"cmd\" : \"stns\",\n",
    "             \"key\" : api_key}\n",
    "\n",
    "    r = requests.get(base_url, params = params)\n",
    "    stations = xmltodict.parse(r.content)\n",
    "\n",
    "    stations = stations['root']['stations'].values()[0]\n",
    "    \n",
    "    stations_series_list = []\n",
    "\n",
    "    for station in stations:\n",
    "        stations_series_list.append(pd.Series(station))\n",
    "\n",
    "    station_frame = pd.concat(stations_series_list, axis=1).transpose()\n",
    "    \n",
    "    station_frame.columns = ['name','abbr','latitude','longitude','address','city','county','state','zipcode']\n",
    "    \n",
    "    return station_frame\n",
    "\n",
    "station_frame = get_bart_stations()"
   ]
  },
  {
   "cell_type": "code",
   "execution_count": 11,
   "metadata": {
    "collapsed": false
   },
   "outputs": [
    {
     "data": {
      "text/html": [
       "<div>\n",
       "<table border=\"1\" class=\"dataframe\">\n",
       "  <thead>\n",
       "    <tr style=\"text-align: right;\">\n",
       "      <th></th>\n",
       "      <th>name</th>\n",
       "      <th>abbr</th>\n",
       "      <th>latitude</th>\n",
       "      <th>longitude</th>\n",
       "      <th>address</th>\n",
       "      <th>city</th>\n",
       "      <th>county</th>\n",
       "      <th>state</th>\n",
       "      <th>zipcode</th>\n",
       "    </tr>\n",
       "  </thead>\n",
       "  <tbody>\n",
       "    <tr>\n",
       "      <th>0</th>\n",
       "      <td>12th St. Oakland City Center</td>\n",
       "      <td>12TH</td>\n",
       "      <td>37.803664</td>\n",
       "      <td>-122.271604</td>\n",
       "      <td>1245 Broadway</td>\n",
       "      <td>Oakland</td>\n",
       "      <td>alameda</td>\n",
       "      <td>CA</td>\n",
       "      <td>94612</td>\n",
       "    </tr>\n",
       "    <tr>\n",
       "      <th>1</th>\n",
       "      <td>16th St. Mission</td>\n",
       "      <td>16TH</td>\n",
       "      <td>37.765062</td>\n",
       "      <td>-122.419694</td>\n",
       "      <td>2000 Mission Street</td>\n",
       "      <td>San Francisco</td>\n",
       "      <td>sanfrancisco</td>\n",
       "      <td>CA</td>\n",
       "      <td>94110</td>\n",
       "    </tr>\n",
       "  </tbody>\n",
       "</table>\n",
       "</div>"
      ],
      "text/plain": [
       "                           name  abbr   latitude    longitude  \\\n",
       "0  12th St. Oakland City Center  12TH  37.803664  -122.271604   \n",
       "1              16th St. Mission  16TH  37.765062  -122.419694   \n",
       "\n",
       "               address           city        county state zipcode  \n",
       "0        1245 Broadway        Oakland       alameda    CA   94612  \n",
       "1  2000 Mission Street  San Francisco  sanfrancisco    CA   94110  "
      ]
     },
     "execution_count": 11,
     "metadata": {},
     "output_type": "execute_result"
    }
   ],
   "source": [
    "station_frame.head(2)"
   ]
  },
  {
   "cell_type": "code",
   "execution_count": null,
   "metadata": {
    "collapsed": true
   },
   "outputs": [],
   "source": [
    "###########################################################\n",
    "#################### WEATHER #############################\n",
    "###########################################################\n",
    "\n",
    "# Source: https://darksky.net/dev/docs/time-machine\n",
    "\n",
    "def dark_sky_fetcher(station_frame, ridership_frame):\n",
    "    \n",
    "    # Set up\n",
    "    result_list = []\n",
    "    base_url = \"https://api.darksky.net/forecast/\"\n",
    "    api_key = \"54f2254db4fd0d9e7a163a2a9c38883d\"\n",
    "    days = ridership_frame['day'].unique()\n",
    "    station_frame.index = station_frame[\"abbr\"]\n",
    "\n",
    "    for station in station_frame.index:\n",
    "        \n",
    "        query_latitude = station_frame[\"latitude\"].loc[station]\n",
    "        query_longitude = station_frame[\"longitude\"].loc[station]\n",
    "        \n",
    "        for day in days:\n",
    "            \n",
    "            # Get midnight on selected day\n",
    "            native_datetime = datetime.combine(day,datetime.min.time())\n",
    "            \n",
    "            # Format for Dark Sky\n",
    "            query_datetime = str(native_datetime).replace(\" \",\"T\") # we omit time zone - defaults to local time\n",
    "            \n",
    "            # Hit the dark sky API - returns weather from all 24 hours of the day\n",
    "            final_url = base_url + api_key + \"/\" + query_latitude + \",\" + query_longitude + \",\" + query_datetime\n",
    "            r = requests.get(final_url)\n",
    "            result = r.json()[\"hourly\"][\"data\"]\n",
    "            \n",
    "            # Organize weather\n",
    "            result_frame = pd.DataFrame(result)\n",
    "            \n",
    "            # Add station name and coordinates\n",
    "            result_frame.insert(0,\"station\", station)\n",
    "            result_frame.insert(0,\"latitude\", query_latitude)\n",
    "            result_frame.insert(0,\"longitude\", query_longitude)\n",
    "            \n",
    "            # Log results\n",
    "            result_list.append(result_frame)\n",
    "            \n",
    "    # Combine all results and re-order column\n",
    "    weather_frame = pd.concat(result_list, axis=0)\n",
    "    key_cols = ['station', \"latitude\", \"longitude\",'time']\n",
    "    reordered_cols = key_cols + [col for col in weather_frame.columns if col not in key_cols]\n",
    "    weather_frame = weather_frame[reordered_cols]  \n",
    "    \n",
    "    return weather_frame\n",
    "\n",
    "weather_frame = dark_sky_fetcher(station_frame, ridership_frame)\n",
    "\n",
    "# Translate time back to PT USA\n",
    "weather_frame['time'] = weather_frame['time'].apply(lambda x: datetime.utcfromtimestamp(x) - timedelta(hours=8))\n",
    "weather_frame.reset_index(inplace=True, drop=True)"
   ]
  },
  {
   "cell_type": "code",
   "execution_count": 24,
   "metadata": {
    "collapsed": false
   },
   "outputs": [
    {
     "data": {
      "text/html": [
       "<div>\n",
       "<table border=\"1\" class=\"dataframe\">\n",
       "  <thead>\n",
       "    <tr style=\"text-align: right;\">\n",
       "      <th></th>\n",
       "      <th>station</th>\n",
       "      <th>latitude</th>\n",
       "      <th>longitude</th>\n",
       "      <th>time</th>\n",
       "      <th>apparentTemperature</th>\n",
       "      <th>cloudCover</th>\n",
       "      <th>dewPoint</th>\n",
       "      <th>humidity</th>\n",
       "      <th>icon</th>\n",
       "      <th>precipIntensity</th>\n",
       "      <th>precipProbability</th>\n",
       "      <th>precipType</th>\n",
       "      <th>pressure</th>\n",
       "      <th>summary</th>\n",
       "      <th>temperature</th>\n",
       "      <th>visibility</th>\n",
       "      <th>windBearing</th>\n",
       "      <th>windSpeed</th>\n",
       "    </tr>\n",
       "  </thead>\n",
       "  <tbody>\n",
       "    <tr>\n",
       "      <th>0</th>\n",
       "      <td>12TH</td>\n",
       "      <td>37.803664</td>\n",
       "      <td>-122.271604</td>\n",
       "      <td>2011-01-01 00:00:00</td>\n",
       "      <td>45.14</td>\n",
       "      <td>1.0</td>\n",
       "      <td>38.50</td>\n",
       "      <td>0.68</td>\n",
       "      <td>cloudy</td>\n",
       "      <td>0.00</td>\n",
       "      <td>0.00</td>\n",
       "      <td>NaN</td>\n",
       "      <td>1016.67</td>\n",
       "      <td>Overcast</td>\n",
       "      <td>48.57</td>\n",
       "      <td>10.0</td>\n",
       "      <td>124.0</td>\n",
       "      <td>7.75</td>\n",
       "    </tr>\n",
       "    <tr>\n",
       "      <th>1</th>\n",
       "      <td>12TH</td>\n",
       "      <td>37.803664</td>\n",
       "      <td>-122.271604</td>\n",
       "      <td>2011-01-01 01:00:00</td>\n",
       "      <td>44.54</td>\n",
       "      <td>1.0</td>\n",
       "      <td>40.67</td>\n",
       "      <td>0.74</td>\n",
       "      <td>rain</td>\n",
       "      <td>0.01</td>\n",
       "      <td>0.48</td>\n",
       "      <td>rain</td>\n",
       "      <td>1016.18</td>\n",
       "      <td>Light Rain</td>\n",
       "      <td>48.57</td>\n",
       "      <td>10.0</td>\n",
       "      <td>126.0</td>\n",
       "      <td>9.25</td>\n",
       "    </tr>\n",
       "  </tbody>\n",
       "</table>\n",
       "</div>"
      ],
      "text/plain": [
       "  station   latitude    longitude                time  apparentTemperature  \\\n",
       "0    12TH  37.803664  -122.271604 2011-01-01 00:00:00                45.14   \n",
       "1    12TH  37.803664  -122.271604 2011-01-01 01:00:00                44.54   \n",
       "\n",
       "   cloudCover  dewPoint  humidity    icon  precipIntensity  precipProbability  \\\n",
       "0         1.0     38.50      0.68  cloudy             0.00               0.00   \n",
       "1         1.0     40.67      0.74    rain             0.01               0.48   \n",
       "\n",
       "  precipType  pressure     summary  temperature  visibility  windBearing  \\\n",
       "0        NaN   1016.67    Overcast        48.57        10.0        124.0   \n",
       "1       rain   1016.18  Light Rain        48.57        10.0        126.0   \n",
       "\n",
       "   windSpeed  \n",
       "0       7.75  \n",
       "1       9.25  "
      ]
     },
     "execution_count": 24,
     "metadata": {},
     "output_type": "execute_result"
    }
   ],
   "source": [
    "weather_frame.head(2)"
   ]
  },
  {
   "cell_type": "code",
   "execution_count": 2,
   "metadata": {
    "collapsed": true
   },
   "outputs": [],
   "source": [
    "###########################################################\n",
    "#################### DEMOGRAPHIC ############################\n",
    "###########################################################\n",
    "\n",
    "# Source: https://www.census.gov/programs-surveys/acs/\n",
    "\n",
    "api_key = \"3bce9957462d09a7749f11461a5071c3a5afcef6\"\n",
    "\n",
    "fields_dict = {'B19083_001E' : 'gini',\n",
    "'B19113_001E' : 'median_household_income',\n",
    "'B19301_001E' : 'per_capita_income',\n",
    "'B06009_002E' : 'some_hs',\n",
    "'B06009_003E' : 'hs_grad',\n",
    "'B06009_004E' : 'some_college',\n",
    "'B06009_005E' : 'bach_degree',\n",
    "'B06009_006E' : 'grad_degree',\n",
    "'B06012_002E' : 'pov_below_100',\n",
    "'B06012_003E' : 'pov_100_150',\n",
    "'B06012_004E' : 'pov_150_plus',\n",
    "'B19057_003E' : 'no_public_assistance',\n",
    " 'B19057_002E' : 'yes_public_assistance',\n",
    "'B01003_001E' : 'totalpop'}\n",
    "\n",
    "fields = fields_dict.keys()\n",
    "\n",
    "zip_frame = pd.read_csv(\"population.csv\")\n",
    "zips = zip_frame['zipcode'].tolist()\n",
    "\n",
    "def get_census_metrics(year):\n",
    "    \n",
    "    result_series_list = []\n",
    "    \n",
    "    for zipcode in zips:\n",
    "        \n",
    "        c = census.Census(api_key, year=year)\n",
    "        result = c.acs5.zipcode(fields, zipcode)\n",
    "        result_series = pd.Series(result[0])\n",
    "        result_series_list.append(result_series)\n",
    "    \n",
    "    # Organize results\n",
    "    final = pd.concat(result_series_list, axis=1)\n",
    "    final.columns = final.loc[\"zip code tabulation area\"].tolist()\n",
    "    final = final.reindex(final.index.drop('zip code tabulation area'))\n",
    "    final['metric'] = final.index\n",
    "    final['metric'].replace(fields_dict, inplace=True)\n",
    "    final.drop('metric', axis=1,inplace=True)\n",
    "    \n",
    "    return final\n",
    "        \n",
    "census_frame = get_census_metrics(2011)\n",
    "census_frame = census_frame.transpose()"
   ]
  },
  {
   "cell_type": "code",
   "execution_count": 3,
   "metadata": {
    "collapsed": false
   },
   "outputs": [
    {
     "data": {
      "text/html": [
       "<div>\n",
       "<table border=\"1\" class=\"dataframe\">\n",
       "  <thead>\n",
       "    <tr style=\"text-align: right;\">\n",
       "      <th></th>\n",
       "      <th>totalpop</th>\n",
       "      <th>some_hs</th>\n",
       "      <th>hs_grad</th>\n",
       "      <th>some_college</th>\n",
       "      <th>bach_degree</th>\n",
       "      <th>grad_degree</th>\n",
       "      <th>pov_below_100</th>\n",
       "      <th>pov_100_150</th>\n",
       "      <th>pov_150_plus</th>\n",
       "      <th>yes_public_assistance</th>\n",
       "      <th>no_public_assistance</th>\n",
       "      <th>gini</th>\n",
       "      <th>median_household_income</th>\n",
       "      <th>per_capita_income</th>\n",
       "    </tr>\n",
       "  </thead>\n",
       "  <tbody>\n",
       "    <tr>\n",
       "      <th>94014</th>\n",
       "      <td>47087</td>\n",
       "      <td>5886</td>\n",
       "      <td>7614</td>\n",
       "      <td>9210</td>\n",
       "      <td>7516</td>\n",
       "      <td>1724</td>\n",
       "      <td>3979</td>\n",
       "      <td>3653</td>\n",
       "      <td>39296</td>\n",
       "      <td>452</td>\n",
       "      <td>13238</td>\n",
       "      <td>0.3822</td>\n",
       "      <td>75754</td>\n",
       "      <td>25707</td>\n",
       "    </tr>\n",
       "  </tbody>\n",
       "</table>\n",
       "</div>"
      ],
      "text/plain": [
       "      totalpop some_hs hs_grad some_college bach_degree grad_degree  \\\n",
       "94014    47087    5886    7614         9210        7516        1724   \n",
       "\n",
       "      pov_below_100 pov_100_150 pov_150_plus yes_public_assistance  \\\n",
       "94014          3979        3653        39296                   452   \n",
       "\n",
       "      no_public_assistance    gini median_household_income per_capita_income  \n",
       "94014                13238  0.3822                   75754             25707  "
      ]
     },
     "execution_count": 3,
     "metadata": {},
     "output_type": "execute_result"
    }
   ],
   "source": [
    "census_frame.head(2)"
   ]
  },
  {
   "cell_type": "code",
   "execution_count": null,
   "metadata": {
    "collapsed": true
   },
   "outputs": [],
   "source": [
    "###########################################################\n",
    "#################### REAL ESTATE ############################\n",
    "###########################################################\n",
    "\n",
    "# Source: http://www.zillow.com/research/data/\n",
    "\n",
    "zillow_frame = pd.read_csv(\"Zip_Zhvi_AllHomes.csv\")\n",
    "\n",
    "# Narrow and tidy data\n",
    "zillow_frame = zillow_frame[zillow_frame['RegionName'].isin(zips)]\n",
    "zillow_frame.reset_index(inplace=True, drop=True)\n",
    "zillow_frame.rename(columns={'RegionName' : 'zipcode'}, inplace=True)"
   ]
  },
  {
   "cell_type": "code",
   "execution_count": null,
   "metadata": {
    "collapsed": true
   },
   "outputs": [],
   "source": [
    "zillow_frame.head(2)"
   ]
  }
 ],
 "metadata": {
  "kernelspec": {
   "display_name": "Python 2",
   "language": "python",
   "name": "python2"
  },
  "language_info": {
   "codemirror_mode": {
    "name": "ipython",
    "version": 2
   },
   "file_extension": ".py",
   "mimetype": "text/x-python",
   "name": "python",
   "nbconvert_exporter": "python",
   "pygments_lexer": "ipython2",
   "version": "2.7.12"
  }
 },
 "nbformat": 4,
 "nbformat_minor": 0
}
